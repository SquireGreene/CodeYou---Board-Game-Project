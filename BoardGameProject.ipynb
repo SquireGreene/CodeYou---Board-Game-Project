{
 "cells": [
  {
   "cell_type": "code",
   "execution_count": 1,
   "metadata": {},
   "outputs": [],
   "source": [
    "import pandas as pd\n",
    "import sqlite3"
   ]
  },
  {
   "cell_type": "code",
   "execution_count": 6,
   "metadata": {},
   "outputs": [],
   "source": [
    "def create_sql_database(list_of_files, db_name):\n",
    "    conn = sqlite3.connect(db_name)\n",
    "    for file in list_of_files:\n",
    "        if file == 'bgg_dataset.csv':\n",
    "            df = pd.read_csv(file, sep=';')\n",
    "            df.to_sql(name = file.replace('.csv', ''), con = conn, if_exists='replace', index=False)\n",
    "        else:\n",
    "            df = pd.read_csv(file)\n",
    "            df.to_sql(name = file.replace('.csv', ''), con = conn, if_exists='replace', index=False) \n",
    "    conn.commit()\n",
    "    conn.close()"
   ]
  },
  {
   "cell_type": "code",
   "execution_count": 7,
   "metadata": {},
   "outputs": [],
   "source": [
    "bgg_data_files = ['bgg_dataset.csv', 'FavoriteGames.csv']"
   ]
  },
  {
   "cell_type": "code",
   "execution_count": 8,
   "metadata": {},
   "outputs": [],
   "source": [
    "create_sql_database(bgg_data_files, 'boardgame_data.db')"
   ]
  },
  {
   "cell_type": "code",
   "execution_count": 9,
   "metadata": {},
   "outputs": [
    {
     "name": "stdout",
     "output_type": "stream",
     "text": [
      "List of Tables\n",
      "\n",
      "[('bgg_dataset',), ('FavoriteGames',)]\n"
     ]
    }
   ],
   "source": [
    "table_test_query = \"\"\"\n",
    "    SELECT name FROM sqlite_master\n",
    "    WHERE type='table';\n",
    "    \"\"\"\n",
    "conn = sqlite3.connect('boardgame_data.db')\n",
    "cur = conn.cursor()\n",
    "cur.execute(table_test_query)\n",
    "print(\"List of Tables\\n\")\n",
    "print(cur.fetchall())"
   ]
  }
 ],
 "metadata": {
  "kernelspec": {
   "display_name": "Python 3",
   "language": "python",
   "name": "python3"
  },
  "language_info": {
   "codemirror_mode": {
    "name": "ipython",
    "version": 3
   },
   "file_extension": ".py",
   "mimetype": "text/x-python",
   "name": "python",
   "nbconvert_exporter": "python",
   "pygments_lexer": "ipython3",
   "version": "3.11.6"
  },
  "orig_nbformat": 4
 },
 "nbformat": 4,
 "nbformat_minor": 2
}
